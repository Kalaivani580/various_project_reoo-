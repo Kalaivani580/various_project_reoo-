{
 "cells": [
  {
   "cell_type": "code",
   "execution_count": 4,
   "id": "1ee9a7d9",
   "metadata": {},
   "outputs": [],
   "source": [
    "!pip install openai --quiet\n"
   ]
  },
  {
   "cell_type": "code",
   "execution_count": null,
   "id": "20c55f52",
   "metadata": {},
   "outputs": [],
   "source": [
    "import openai\n",
    "\n",
    "# 🔑 Replace YOUR_API_KEY with your real OpenAI key\n",
    "openai.api_key = \"Enter your API key\"\n"
   ]
  },
  {
   "cell_type": "code",
   "execution_count": 6,
   "id": "25488b4d",
   "metadata": {},
   "outputs": [],
   "source": [
    "def get_embedding(text, model=\"text-embedding-3-small\"):\n",
    "    response = openai.embeddings.create(\n",
    "        input=[text],\n",
    "        model=model\n",
    "    )\n",
    "    return response.data[0].embedding\n"
   ]
  },
  {
   "cell_type": "code",
   "execution_count": 7,
   "id": "259a799d",
   "metadata": {},
   "outputs": [
    {
     "name": "stdout",
     "output_type": "stream",
     "text": [
      "Vector Length: 1536\n",
      "First 5 values: [0.0012239629868417978, -0.03112705983221531, 0.005345838610082865, 0.013451593928039074, 0.05745426565408707]\n"
     ]
    }
   ],
   "source": [
    "text = \"Artificial intelligence is simplifying our works and shaping the future.\"\n",
    "embedding = get_embedding(text)\n",
    "\n",
    "print(\"Vector Length:\", len(embedding))\n",
    "print(\"First 5 values:\", embedding[:5])\n"
   ]
  },
  {
   "cell_type": "code",
   "execution_count": null,
   "id": "8f1d1eac",
   "metadata": {},
   "outputs": [],
   "source": []
  }
 ],
 "metadata": {
  "kernelspec": {
   "display_name": "Python 3",
   "language": "python",
   "name": "python3"
  },
  "language_info": {
   "codemirror_mode": {
    "name": "ipython",
    "version": 3
   },
   "file_extension": ".py",
   "mimetype": "text/x-python",
   "name": "python",
   "nbconvert_exporter": "python",
   "pygments_lexer": "ipython3",
   "version": "3.11.0"
  }
 },
 "nbformat": 4,
 "nbformat_minor": 5
}
