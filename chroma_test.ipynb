{
 "cells": [
  {
   "cell_type": "code",
   "execution_count": 2,
   "id": "52f6b358",
   "metadata": {},
   "outputs": [],
   "source": [
    "!python -m venv chroma_env\n"
   ]
  },
  {
   "cell_type": "code",
   "execution_count": 3,
   "id": "2850a513",
   "metadata": {},
   "outputs": [],
   "source": [
    "!pip install chromadb ipywidgets sentence-transformers --quiet\n"
   ]
  },
  {
   "cell_type": "code",
   "execution_count": 2,
   "id": "697f67a1",
   "metadata": {},
   "outputs": [],
   "source": [
    "import chromadb\n",
    "\n",
    "# Use PersistentClient for storing to disk\n",
    "client = chromadb.PersistentClient(path=\"./chroma_store\")\n"
   ]
  },
  {
   "cell_type": "code",
   "execution_count": 3,
   "id": "9c8ae753",
   "metadata": {},
   "outputs": [],
   "source": [
    "collection = client.get_or_create_collection(name=\"my_collection\")\n"
   ]
  },
  {
   "cell_type": "code",
   "execution_count": 4,
   "id": "bbeb2f6b",
   "metadata": {},
   "outputs": [
    {
     "name": "stderr",
     "output_type": "stream",
     "text": [
      "C:\\Users\\Admin\\.cache\\chroma\\onnx_models\\all-MiniLM-L6-v2\\onnx.tar.gz: 100%|██████████| 79.3M/79.3M [00:25<00:00, 3.30MiB/s]\n"
     ]
    }
   ],
   "source": [
    "collection.add(\n",
    "    documents=[\n",
    "        \"Python is a versatile language.\",\n",
    "        \"ChromaDB is great for managing embeddings.\",\n",
    "        \"Data science is exciting.\"\n",
    "    ],\n",
    "    metadatas=[\n",
    "        {\"type\": \"language\"},\n",
    "        {\"type\": \"vector-db\"},\n",
    "        {\"type\": \"field\"}\n",
    "    ],\n",
    "    ids=[\"doc1\", \"doc2\", \"doc3\"]\n",
    ")\n",
    "\n"
   ]
  },
  {
   "cell_type": "code",
   "execution_count": 5,
   "id": "4d55aee7",
   "metadata": {},
   "outputs": [
    {
     "name": "stdout",
     "output_type": "stream",
     "text": [
      "Results:\n",
      "- ChromaDB is great for managing embeddings.\n",
      "- Python is a versatile language.\n"
     ]
    }
   ],
   "source": [
    "results = collection.query(\n",
    "    query_texts=[\"What is ChromaDB used for?\"],\n",
    "    n_results=2\n",
    ")\n",
    "\n",
    "print(\"Results:\")\n",
    "for doc in results['documents'][0]:\n",
    "    print(\"-\", doc)\n"
   ]
  },
  {
   "cell_type": "code",
   "execution_count": null,
   "id": "a2595838",
   "metadata": {},
   "outputs": [],
   "source": []
  }
 ],
 "metadata": {
  "kernelspec": {
   "display_name": "Python 3",
   "language": "python",
   "name": "python3"
  },
  "language_info": {
   "codemirror_mode": {
    "name": "ipython",
    "version": 3
   },
   "file_extension": ".py",
   "mimetype": "text/x-python",
   "name": "python",
   "nbconvert_exporter": "python",
   "pygments_lexer": "ipython3",
   "version": "3.11.0"
  }
 },
 "nbformat": 4,
 "nbformat_minor": 5
}
